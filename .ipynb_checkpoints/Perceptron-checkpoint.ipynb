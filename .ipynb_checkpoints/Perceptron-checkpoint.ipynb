{
 "cells": [
  {
   "cell_type": "code",
   "execution_count": 2,
   "metadata": {},
   "outputs": [],
   "source": [
    "# Implement the following exemple of perceptron\n",
    "#https://machinelearningmastery.com/implement-perceptron-algorithm-scratch-python/\n",
    "\n",
    "# perceptrons recive inputs signals from exemples (data) that must be weighted and combined in a linear equation\n",
    "#activation = sum(weight_i * x_i) + bias\n",
    "\n",
    "#The activation must be tranformed into an output using transfer fuction such as step tranfer function\n",
    "#prediction = 1.0 if activation >= 0.0 else 0.0\n",
    "\n",
    "#ajust the weight in order to minimize the error\n",
    "#w = w + learning_rate * (expected - predicted) * x\n",
    "\n",
    "# Make prediction with weights\n",
    "def predict(row, weights):\n",
    "    activation = weights[0]\n",
    "    for i in range(len(row)-1):\n",
    "        activation += weights[i + 1] * row[i]\n",
    "    return 1.0 if activation >= 0.0 else 0.0\n",
    "\n",
    "# test data set\n",
    "\n",
    "\n",
    "\n"
   ]
  }
 ],
 "metadata": {
  "kernelspec": {
   "display_name": "Python 3",
   "language": "python",
   "name": "python3"
  },
  "language_info": {
   "codemirror_mode": {
    "name": "ipython",
    "version": 3
   },
   "file_extension": ".py",
   "mimetype": "text/x-python",
   "name": "python",
   "nbconvert_exporter": "python",
   "pygments_lexer": "ipython3",
   "version": "3.6.5"
  }
 },
 "nbformat": 4,
 "nbformat_minor": 2
}
